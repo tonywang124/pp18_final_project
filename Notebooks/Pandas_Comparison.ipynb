{
 "cells": [
  {
   "cell_type": "code",
   "execution_count": 1,
   "metadata": {},
   "outputs": [],
   "source": [
    "import numpy as np\n",
    "import pandas as pd\n",
    "import dask as dd\n",
    "import ray as rd"
   ]
  },
  {
   "cell_type": "markdown",
   "metadata": {},
   "source": [
    "# Single Threaded Benchmarks\n",
    "This code comes the following blog post: https://engineering.upside.com/a-beginners-guide-to-optimizing-pandas-code-for-speed-c09ef2c6a4d6\n",
    "\n",
    "We use this as a starting point for our implementations as they provide benchmarked results of the two approaches we are comparing."
   ]
  },
  {
   "cell_type": "code",
   "execution_count": 2,
   "metadata": {},
   "outputs": [],
   "source": [
    "# Define a basic Haversine distance formula\n",
    "def haversine(lat1, lon1, lat2, lon2):\n",
    "    MILES = 3959\n",
    "    lat1, lon1, lat2, lon2 = map(np.deg2rad, [lat1, lon1, lat2, lon2])\n",
    "    dlat = lat2 - lat1 \n",
    "    dlon = lon2 - lon1 \n",
    "    a = np.sin(dlat/2)**2 + np.cos(lat1) * np.cos(lat2) * np.sin(dlon/2)**2\n",
    "    c = 2 * np.arcsin(np.sqrt(a)) \n",
    "    total_miles = MILES * c\n",
    "    return total_miles"
   ]
  },
  {
   "cell_type": "code",
   "execution_count": 3,
   "metadata": {},
   "outputs": [],
   "source": [
    "# Define a function to manually loop over all rows and return a series of distances\n",
    "def haversine_looping(df):\n",
    "    distance_list = []\n",
    "    for i in range(0, len(df)):\n",
    "        d = haversine(40.671, -73.985, df.iloc[i]['latitude'], df.iloc[i]['longitude'])\n",
    "        distance_list.append(d)\n",
    "    return distance_list"
   ]
  },
  {
   "cell_type": "code",
   "execution_count": 4,
   "metadata": {},
   "outputs": [],
   "source": [
    "## Load Data\n",
    "df = pd.read_csv('../blog_code/new_york_hotels.csv', encoding='cp1252')"
   ]
  },
  {
   "cell_type": "markdown",
   "metadata": {},
   "source": [
    "## Experiment 1: Looping"
   ]
  },
  {
   "cell_type": "code",
   "execution_count": 5,
   "metadata": {},
   "outputs": [
    {
     "name": "stdout",
     "output_type": "stream",
     "text": [
      "642 ms ± 57 ms per loop (mean ± std. dev. of 7 runs, 1 loop each)\n"
     ]
    }
   ],
   "source": [
    "%%timeit\n",
    "\n",
    "# Run the haversine looping function\n",
    "df['distance'] = haversine_looping(df)"
   ]
  },
  {
   "cell_type": "markdown",
   "metadata": {},
   "source": [
    "## Experiment 2: Iterrows"
   ]
  },
  {
   "cell_type": "code",
   "execution_count": 6,
   "metadata": {},
   "outputs": [
    {
     "name": "stdout",
     "output_type": "stream",
     "text": [
      "154 ms ± 4.75 ms per loop (mean ± std. dev. of 7 runs, 10 loops each)\n"
     ]
    }
   ],
   "source": [
    "%%timeit\n",
    "# Haversine applied on rows via iteration\n",
    "haversine_series = []\n",
    "for index, row in df.iterrows():\n",
    "    haversine_series.append(haversine(40.671, -73.985,\\\n",
    "                                      row['latitude'], row['longitude']))\n",
    "df['distance'] = haversine_series"
   ]
  },
  {
   "cell_type": "markdown",
   "metadata": {},
   "source": [
    "## Experiment 3: Apply "
   ]
  },
  {
   "cell_type": "code",
   "execution_count": 7,
   "metadata": {},
   "outputs": [
    {
     "name": "stdout",
     "output_type": "stream",
     "text": [
      "63.8 ms ± 3.79 ms per loop (mean ± std. dev. of 7 runs, 10 loops each)\n"
     ]
    }
   ],
   "source": [
    "%%timeit\n",
    "\n",
    "# Timing apply on the Haversine function\n",
    "df['distance'] = df.apply(lambda row: haversine(40.671, -73.985, row['latitude'], row['longitude']), axis=1)"
   ]
  },
  {
   "cell_type": "markdown",
   "metadata": {},
   "source": [
    "## Experiment 4: Vectorize Series"
   ]
  },
  {
   "cell_type": "code",
   "execution_count": 17,
   "metadata": {},
   "outputs": [
    {
     "name": "stdout",
     "output_type": "stream",
     "text": [
      "1.42 ms ± 67.4 µs per loop (mean ± std. dev. of 7 runs, 1000 loops each)\n"
     ]
    }
   ],
   "source": [
    "%%timeit \n",
    "\n",
    "# Vectorized implementation of Haversine applied on Pandas series\n",
    "df['distance'] = haversine(40.671, -73.985, df['latitude'], df['longitude'])"
   ]
  },
  {
   "cell_type": "markdown",
   "metadata": {},
   "source": [
    "## Experiment 5: Vectorize Numpy ndarray"
   ]
  },
  {
   "cell_type": "code",
   "execution_count": 18,
   "metadata": {},
   "outputs": [
    {
     "name": "stdout",
     "output_type": "stream",
     "text": [
      "282 µs ± 13.6 µs per loop (mean ± std. dev. of 7 runs, 1000 loops each)\n"
     ]
    }
   ],
   "source": [
    "%%timeit \n",
    "\n",
    "# Vectorized implementation of Haversine applied on Pandas series\n",
    "df['distance'] = haversine(40.671, -73.985, df['latitude'].values, df['longitude'].values)"
   ]
  },
  {
   "cell_type": "markdown",
   "metadata": {},
   "source": [
    "# Ray"
   ]
  },
  {
   "cell_type": "code",
   "execution_count": 8,
   "metadata": {},
   "outputs": [
    {
     "name": "stdout",
     "output_type": "stream",
     "text": [
      "Process STDOUT and STDERR is being redirected to /tmp/raylogs/.\n",
      "Waiting for redis server at 127.0.0.1:41736 to respond...\n",
      "Waiting for redis server at 127.0.0.1:20344 to respond...\n",
      "Starting local scheduler with the following resources: {'CPU': 8, 'GPU': 0}.\n",
      "\n",
      "======================================================================\n",
      "View the web UI at http://localhost:8890/notebooks/ray_ui92446.ipynb?token=ed172dab16ecf7f4c9b512309619586a02e567ab8f5463df\n",
      "======================================================================\n",
      "\n"
     ]
    }
   ],
   "source": [
    "#import pandas as pd\n",
    "import ray.dataframe as rd"
   ]
  },
  {
   "cell_type": "code",
   "execution_count": 9,
   "metadata": {},
   "outputs": [
    {
     "data": {
      "text/plain": [
       "   ean_hotel_id                                     name  \\\n",
       "0        269955       Hilton Garden Inn Albany/SUNY Area   \n",
       "1        113431     Courtyard by Marriott Albany Thruway   \n",
       "2        108151                    Radisson Hotel Albany   \n",
       "3        254756  Hilton Garden Inn Albany Medical Center   \n",
       "4        198232  CrestHill Suites SUNY University Albany   \n",
       "\n",
       "                 address1    city state_province postal_code  latitude  \\\n",
       "0     1389 Washington Ave  Albany             NY       12206  42.68751   \n",
       "1  1455 Washington Avenue  Albany             NY       12206  42.68971   \n",
       "2             205 Wolf Rd  Albany             NY       12205  42.72410   \n",
       "3     62 New Scotland Ave  Albany             NY       12208  42.65157   \n",
       "4  1415 Washington Avenue  Albany             NY       12206  42.68873   \n",
       "\n",
       "   longitude  star_rating  high_rate  low_rate  \n",
       "0  -73.81643          3.0   154.0272  124.0216  \n",
       "1  -73.82021          3.0   179.0100  134.0000  \n",
       "2  -73.79822          3.0   134.1700   84.1600  \n",
       "3  -73.77638          3.0   308.2807  228.4597  \n",
       "4  -73.81854          3.0   169.3900   89.3900  "
      ]
     },
     "execution_count": 9,
     "metadata": {},
     "output_type": "execute_result"
    }
   ],
   "source": [
    "## Load Data\n",
    "rdf = rd.read_csv('../blog_code/new_york_hotels.csv', encoding='cp1252')\n",
    "rdf.head()"
   ]
  },
  {
   "cell_type": "code",
   "execution_count": 10,
   "metadata": {
    "scrolled": true
   },
   "outputs": [
    {
     "name": "stdout",
     "output_type": "stream",
     "text": [
      "WARNING: Falling back to serializing objects of type <class 'slice'> by using pickle. This may be inefficient.\n",
      "16.4 s ± 340 ms per loop (mean ± std. dev. of 7 runs, 1 loop each)\n"
     ]
    }
   ],
   "source": [
    "%%timeit\n",
    "\n",
    "# Run the haversine looping function\n",
    "result = haversine_looping(rdf)"
   ]
  },
  {
   "cell_type": "code",
   "execution_count": 14,
   "metadata": {},
   "outputs": [
    {
     "name": "stdout",
     "output_type": "stream",
     "text": [
      "830 ms ± 53.9 ms per loop (mean ± std. dev. of 7 runs, 1 loop each)\n"
     ]
    }
   ],
   "source": [
    "%%timeit\n",
    "# Haversine applied on rows via iteration\n",
    "haversine_series = []\n",
    "for index, row in rdf.iterrows():\n",
    "    haversine_series.append(haversine(40.671, -73.985,\\\n",
    "                                      row['latitude'], row['longitude']))\n",
    "result = haversine_series"
   ]
  },
  {
   "cell_type": "code",
   "execution_count": 24,
   "metadata": {},
   "outputs": [
    {
     "ename": "NotImplementedError",
     "evalue": "To contribute to Pandas on Ray, please visit github.com/ray-project/ray.",
     "output_type": "error",
     "traceback": [
      "\u001b[0;31m---------------------------------------------------------------------------\u001b[0m",
      "\u001b[0;31mNotImplementedError\u001b[0m                       Traceback (most recent call last)",
      "\u001b[0;32m<ipython-input-24-73db8d95a538>\u001b[0m in \u001b[0;36m<module>\u001b[0;34m()\u001b[0m\n\u001b[0;32m----> 1\u001b[0;31m \u001b[0mget_ipython\u001b[0m\u001b[0;34m(\u001b[0m\u001b[0;34m)\u001b[0m\u001b[0;34m.\u001b[0m\u001b[0mrun_cell_magic\u001b[0m\u001b[0;34m(\u001b[0m\u001b[0;34m'timeit'\u001b[0m\u001b[0;34m,\u001b[0m \u001b[0;34m''\u001b[0m\u001b[0;34m,\u001b[0m \u001b[0;34m\"\\n# Timing apply on the Haversine function\\nresults = rdf.apply(lambda row: haversine(40.671, -73.985, row['latitude'], row['longitude']), axis=1)\"\u001b[0m\u001b[0;34m)\u001b[0m\u001b[0;34m\u001b[0m\u001b[0m\n\u001b[0m",
      "\u001b[0;32m~/miniconda3/envs/Parallel_Final/lib/python3.6/site-packages/IPython/core/interactiveshell.py\u001b[0m in \u001b[0;36mrun_cell_magic\u001b[0;34m(self, magic_name, line, cell)\u001b[0m\n\u001b[1;32m   2165\u001b[0m             \u001b[0mmagic_arg_s\u001b[0m \u001b[0;34m=\u001b[0m \u001b[0mself\u001b[0m\u001b[0;34m.\u001b[0m\u001b[0mvar_expand\u001b[0m\u001b[0;34m(\u001b[0m\u001b[0mline\u001b[0m\u001b[0;34m,\u001b[0m \u001b[0mstack_depth\u001b[0m\u001b[0;34m)\u001b[0m\u001b[0;34m\u001b[0m\u001b[0m\n\u001b[1;32m   2166\u001b[0m             \u001b[0;32mwith\u001b[0m \u001b[0mself\u001b[0m\u001b[0;34m.\u001b[0m\u001b[0mbuiltin_trap\u001b[0m\u001b[0;34m:\u001b[0m\u001b[0;34m\u001b[0m\u001b[0m\n\u001b[0;32m-> 2167\u001b[0;31m                 \u001b[0mresult\u001b[0m \u001b[0;34m=\u001b[0m \u001b[0mfn\u001b[0m\u001b[0;34m(\u001b[0m\u001b[0mmagic_arg_s\u001b[0m\u001b[0;34m,\u001b[0m \u001b[0mcell\u001b[0m\u001b[0;34m)\u001b[0m\u001b[0;34m\u001b[0m\u001b[0m\n\u001b[0m\u001b[1;32m   2168\u001b[0m             \u001b[0;32mreturn\u001b[0m \u001b[0mresult\u001b[0m\u001b[0;34m\u001b[0m\u001b[0m\n\u001b[1;32m   2169\u001b[0m \u001b[0;34m\u001b[0m\u001b[0m\n",
      "\u001b[0;32m<decorator-gen-61>\u001b[0m in \u001b[0;36mtimeit\u001b[0;34m(self, line, cell, local_ns)\u001b[0m\n",
      "\u001b[0;32m~/miniconda3/envs/Parallel_Final/lib/python3.6/site-packages/IPython/core/magic.py\u001b[0m in \u001b[0;36m<lambda>\u001b[0;34m(f, *a, **k)\u001b[0m\n\u001b[1;32m    185\u001b[0m     \u001b[0;31m# but it's overkill for just that one bit of state.\u001b[0m\u001b[0;34m\u001b[0m\u001b[0;34m\u001b[0m\u001b[0m\n\u001b[1;32m    186\u001b[0m     \u001b[0;32mdef\u001b[0m \u001b[0mmagic_deco\u001b[0m\u001b[0;34m(\u001b[0m\u001b[0marg\u001b[0m\u001b[0;34m)\u001b[0m\u001b[0;34m:\u001b[0m\u001b[0;34m\u001b[0m\u001b[0m\n\u001b[0;32m--> 187\u001b[0;31m         \u001b[0mcall\u001b[0m \u001b[0;34m=\u001b[0m \u001b[0;32mlambda\u001b[0m \u001b[0mf\u001b[0m\u001b[0;34m,\u001b[0m \u001b[0;34m*\u001b[0m\u001b[0ma\u001b[0m\u001b[0;34m,\u001b[0m \u001b[0;34m**\u001b[0m\u001b[0mk\u001b[0m\u001b[0;34m:\u001b[0m \u001b[0mf\u001b[0m\u001b[0;34m(\u001b[0m\u001b[0;34m*\u001b[0m\u001b[0ma\u001b[0m\u001b[0;34m,\u001b[0m \u001b[0;34m**\u001b[0m\u001b[0mk\u001b[0m\u001b[0;34m)\u001b[0m\u001b[0;34m\u001b[0m\u001b[0m\n\u001b[0m\u001b[1;32m    188\u001b[0m \u001b[0;34m\u001b[0m\u001b[0m\n\u001b[1;32m    189\u001b[0m         \u001b[0;32mif\u001b[0m \u001b[0mcallable\u001b[0m\u001b[0;34m(\u001b[0m\u001b[0marg\u001b[0m\u001b[0;34m)\u001b[0m\u001b[0;34m:\u001b[0m\u001b[0;34m\u001b[0m\u001b[0m\n",
      "\u001b[0;32m~/miniconda3/envs/Parallel_Final/lib/python3.6/site-packages/IPython/core/magics/execution.py\u001b[0m in \u001b[0;36mtimeit\u001b[0;34m(self, line, cell, local_ns)\u001b[0m\n\u001b[1;32m   1096\u001b[0m             \u001b[0;32mfor\u001b[0m \u001b[0mindex\u001b[0m \u001b[0;32min\u001b[0m \u001b[0mrange\u001b[0m\u001b[0;34m(\u001b[0m\u001b[0;36m0\u001b[0m\u001b[0;34m,\u001b[0m \u001b[0;36m10\u001b[0m\u001b[0;34m)\u001b[0m\u001b[0;34m:\u001b[0m\u001b[0;34m\u001b[0m\u001b[0m\n\u001b[1;32m   1097\u001b[0m                 \u001b[0mnumber\u001b[0m \u001b[0;34m=\u001b[0m \u001b[0;36m10\u001b[0m \u001b[0;34m**\u001b[0m \u001b[0mindex\u001b[0m\u001b[0;34m\u001b[0m\u001b[0m\n\u001b[0;32m-> 1098\u001b[0;31m                 \u001b[0mtime_number\u001b[0m \u001b[0;34m=\u001b[0m \u001b[0mtimer\u001b[0m\u001b[0;34m.\u001b[0m\u001b[0mtimeit\u001b[0m\u001b[0;34m(\u001b[0m\u001b[0mnumber\u001b[0m\u001b[0;34m)\u001b[0m\u001b[0;34m\u001b[0m\u001b[0m\n\u001b[0m\u001b[1;32m   1099\u001b[0m                 \u001b[0;32mif\u001b[0m \u001b[0mtime_number\u001b[0m \u001b[0;34m>=\u001b[0m \u001b[0;36m0.2\u001b[0m\u001b[0;34m:\u001b[0m\u001b[0;34m\u001b[0m\u001b[0m\n\u001b[1;32m   1100\u001b[0m                     \u001b[0;32mbreak\u001b[0m\u001b[0;34m\u001b[0m\u001b[0m\n",
      "\u001b[0;32m~/miniconda3/envs/Parallel_Final/lib/python3.6/site-packages/IPython/core/magics/execution.py\u001b[0m in \u001b[0;36mtimeit\u001b[0;34m(self, number)\u001b[0m\n\u001b[1;32m    158\u001b[0m         \u001b[0mgc\u001b[0m\u001b[0;34m.\u001b[0m\u001b[0mdisable\u001b[0m\u001b[0;34m(\u001b[0m\u001b[0;34m)\u001b[0m\u001b[0;34m\u001b[0m\u001b[0m\n\u001b[1;32m    159\u001b[0m         \u001b[0;32mtry\u001b[0m\u001b[0;34m:\u001b[0m\u001b[0;34m\u001b[0m\u001b[0m\n\u001b[0;32m--> 160\u001b[0;31m             \u001b[0mtiming\u001b[0m \u001b[0;34m=\u001b[0m \u001b[0mself\u001b[0m\u001b[0;34m.\u001b[0m\u001b[0minner\u001b[0m\u001b[0;34m(\u001b[0m\u001b[0mit\u001b[0m\u001b[0;34m,\u001b[0m \u001b[0mself\u001b[0m\u001b[0;34m.\u001b[0m\u001b[0mtimer\u001b[0m\u001b[0;34m)\u001b[0m\u001b[0;34m\u001b[0m\u001b[0m\n\u001b[0m\u001b[1;32m    161\u001b[0m         \u001b[0;32mfinally\u001b[0m\u001b[0;34m:\u001b[0m\u001b[0;34m\u001b[0m\u001b[0m\n\u001b[1;32m    162\u001b[0m             \u001b[0;32mif\u001b[0m \u001b[0mgcold\u001b[0m\u001b[0;34m:\u001b[0m\u001b[0;34m\u001b[0m\u001b[0m\n",
      "\u001b[0;32m<magic-timeit>\u001b[0m in \u001b[0;36minner\u001b[0;34m(_it, _timer)\u001b[0m\n",
      "\u001b[0;32m~/miniconda3/envs/Parallel_Final/lib/python3.6/site-packages/ray/dataframe/dataframe.py\u001b[0m in \u001b[0;36mapply\u001b[0;34m(self, func, axis, broadcast, raw, reduce, args, **kwds)\u001b[0m\n\u001b[1;32m    541\u001b[0m               args=(), **kwds):\n\u001b[1;32m    542\u001b[0m         raise NotImplementedError(\n\u001b[0;32m--> 543\u001b[0;31m             \u001b[0;34m\"To contribute to Pandas on Ray, please visit \"\u001b[0m\u001b[0;34m\u001b[0m\u001b[0m\n\u001b[0m\u001b[1;32m    544\u001b[0m             \"github.com/ray-project/ray.\")\n\u001b[1;32m    545\u001b[0m \u001b[0;34m\u001b[0m\u001b[0m\n",
      "\u001b[0;31mNotImplementedError\u001b[0m: To contribute to Pandas on Ray, please visit github.com/ray-project/ray."
     ]
    }
   ],
   "source": [
    "%%timeit\n",
    "\n",
    "# Timing apply on the Haversine function\n",
    "results = rdf.apply(lambda row: haversine(40.671, -73.985, row['latitude'], row['longitude']), axis=1)"
   ]
  },
  {
   "cell_type": "code",
   "execution_count": 16,
   "metadata": {},
   "outputs": [
    {
     "name": "stdout",
     "output_type": "stream",
     "text": [
      "28.5 ms ± 725 µs per loop (mean ± std. dev. of 7 runs, 10 loops each)\n"
     ]
    }
   ],
   "source": [
    "%%timeit \n",
    "\n",
    "# Vectorized implementation of Haversine applied on Pandas series\n",
    "result = haversine(40.671, -73.985, rdf['latitude'], rdf['longitude'])"
   ]
  },
  {
   "cell_type": "code",
   "execution_count": 19,
   "metadata": {},
   "outputs": [
    {
     "name": "stdout",
     "output_type": "stream",
     "text": [
      "27 ms ± 1.74 ms per loop (mean ± std. dev. of 7 runs, 10 loops each)\n"
     ]
    }
   ],
   "source": [
    "%%timeit \n",
    "\n",
    "# Vectorized implementation of Haversine applied on Pandas series\n",
    "result = haversine(40.671, -73.985, rdf['latitude'].values, rdf['longitude'].values)"
   ]
  },
  {
   "cell_type": "code",
   "execution_count": 25,
   "metadata": {},
   "outputs": [
    {
     "name": "stdout",
     "output_type": "stream",
     "text": [
      "--2018-05-09 19:38:45--  https://raw.githubusercontent.com/s-heisler/pycon2017-optimizing-pandas/master/new_york_hotels.csv\n",
      "Resolving raw.githubusercontent.com (raw.githubusercontent.com)... 151.101.32.133\n",
      "Connecting to raw.githubusercontent.com (raw.githubusercontent.com)|151.101.32.133|:443... connected.\n",
      "HTTP request sent, awaiting response... 200 OK\n",
      "Length: 222663 (217K) [text/plain]\n",
      "Saving to: ‘new_york_hotels.csv’\n",
      "\n",
      "new_york_hotels.csv 100%[=====================>] 217.44K  --.-KB/s   in 0.05s  \n",
      "\n",
      "2018-05-09 19:38:45 (4.54 MB/s) - ‘new_york_hotels.csv’ saved [222663/222663]\n",
      "\n"
     ]
    }
   ],
   "source": [
    "!wget https://raw.githubusercontent.com/s-heisler/pycon2017-optimizing-pandas/master/new_york_hotels.csv"
   ]
  },
  {
   "cell_type": "code",
   "execution_count": 26,
   "metadata": {},
   "outputs": [],
   "source": [
    "!tail -n +2 new_york_hotels.csv > new_york_hotels_no_header.csv"
   ]
  },
  {
   "cell_type": "code",
   "execution_count": 27,
   "metadata": {},
   "outputs": [],
   "source": [
    "!cat new_york_hotels.csv new_york_hotels_no_header.csv new_york_hotels_no_header.csv new_york_hotels_no_header.csv new_york_hotels_no_header.csv new_york_hotels_no_header.csv new_york_hotels_no_header.csv new_york_hotels_no_header.csv new_york_hotels_no_header.csv new_york_hotels_no_header.csv new_york_hotels_no_header.csv new_york_hotels_no_header.csv new_york_hotels_no_header.csv new_york_hotels_no_header.csv new_york_hotels_no_header.csv new_york_hotels_no_header.csv new_york_hotels_no_header.csv new_york_hotels_no_header.csv new_york_hotels_no_header.csv new_york_hotels_no_header.csv new_york_hotels_no_header.csv new_york_hotels_no_header.csv new_york_hotels_no_header.csv new_york_hotels_no_header.csv new_york_hotels_no_header.csv new_york_hotels_no_header.csv new_york_hotels_no_header.csv new_york_hotels_no_header.csv new_york_hotels_no_header.csv new_york_hotels_no_header.csv new_york_hotels_no_header.csv new_york_hotels_no_header.csv new_york_hotels_no_header.csv new_york_hotels_no_header.csv new_york_hotels_no_header.csv new_york_hotels_no_header.csv new_york_hotels_no_header.csv new_york_hotels_no_header.csv new_york_hotels_no_header.csv new_york_hotels_no_header.csv new_york_hotels_no_header.csv new_york_hotels_no_header.csv new_york_hotels_no_header.csv new_york_hotels_no_header.csv new_york_hotels_no_header.csv new_york_hotels_no_header.csv new_york_hotels_no_header.csv new_york_hotels_no_header.csv new_york_hotels_no_header.csv new_york_hotels_no_header.csv new_york_hotels_no_header.csv new_york_hotels_no_header.csv new_york_hotels_no_header.csv new_york_hotels_no_header.csv new_york_hotels_no_header.csv new_york_hotels_no_header.csv new_york_hotels_no_header.csv new_york_hotels_no_header.csv new_york_hotels_no_header.csv new_york_hotels_no_header.csv new_york_hotels_no_header.csv new_york_hotels_no_header.csv new_york_hotels_no_header.csv new_york_hotels_no_header.csv new_york_hotels_no_header.csv new_york_hotels_no_header.csv new_york_hotels_no_header.csv new_york_hotels_no_header.csv new_york_hotels_no_header.csv new_york_hotels_no_header.csv new_york_hotels_no_header.csv new_york_hotels_no_header.csv new_york_hotels_no_header.csv new_york_hotels_no_header.csv new_york_hotels_no_header.csv new_york_hotels_no_header.csv new_york_hotels_no_header.csv new_york_hotels_no_header.csv new_york_hotels_no_header.csv new_york_hotels_no_header.csv new_york_hotels_no_header.csv new_york_hotels_no_header.csv new_york_hotels_no_header.csv new_york_hotels_no_header.csv new_york_hotels_no_header.csv new_york_hotels_no_header.csv new_york_hotels_no_header.csv new_york_hotels_no_header.csv new_york_hotels_no_header.csv new_york_hotels_no_header.csv new_york_hotels_no_header.csv new_york_hotels_no_header.csv new_york_hotels_no_header.csv new_york_hotels_no_header.csv new_york_hotels_no_header.csv new_york_hotels_no_header.csv new_york_hotels_no_header.csv new_york_hotels_no_header.csv new_york_hotels_no_header.csv new_york_hotels_no_header.csv new_york_hotels_no_header.csv new_york_hotels_no_header.csv new_york_hotels_no_header.csv new_york_hotels_no_header.csv new_york_hotels_no_header.csv new_york_hotels_no_header.csv new_york_hotels_no_header.csv new_york_hotels_no_header.csv new_york_hotels_no_header.csv new_york_hotels_no_header.csv new_york_hotels_no_header.csv new_york_hotels_no_header.csv new_york_hotels_no_header.csv new_york_hotels_no_header.csv new_york_hotels_no_header.csv new_york_hotels_no_header.csv new_york_hotels_no_header.csv new_york_hotels_no_header.csv new_york_hotels_no_header.csv new_york_hotels_no_header.csv new_york_hotels_no_header.csv new_york_hotels_no_header.csv new_york_hotels_no_header.csv new_york_hotels_no_header.csv new_york_hotels_no_header.csv new_york_hotels_no_header.csv new_york_hotels_no_header.csv new_york_hotels_no_header.csv new_york_hotels_no_header.csv new_york_hotels_no_header.csv new_york_hotels_no_header.csv new_york_hotels_no_header.csv new_york_hotels_no_header.csv new_york_hotels_no_header.csv new_york_hotels_no_header.csv new_york_hotels_no_header.csv new_york_hotels_no_header.csv new_york_hotels_no_header.csv new_york_hotels_no_header.csv new_york_hotels_no_header.csv new_york_hotels_no_header.csv new_york_hotels_no_header.csv new_york_hotels_no_header.csv new_york_hotels_no_header.csv new_york_hotels_no_header.csv new_york_hotels_no_header.csv new_york_hotels_no_header.csv new_york_hotels_no_header.csv new_york_hotels_no_header.csv new_york_hotels_no_header.csv new_york_hotels_no_header.csv new_york_hotels_no_header.csv new_york_hotels_no_header.csv new_york_hotels_no_header.csv new_york_hotels_no_header.csv new_york_hotels_no_header.csv new_york_hotels_no_header.csv new_york_hotels_no_header.csv new_york_hotels_no_header.csv new_york_hotels_no_header.csv new_york_hotels_no_header.csv new_york_hotels_no_header.csv new_york_hotels_no_header.csv new_york_hotels_no_header.csv new_york_hotels_no_header.csv new_york_hotels_no_header.csv new_york_hotels_no_header.csv new_york_hotels_no_header.csv new_york_hotels_no_header.csv new_york_hotels_no_header.csv new_york_hotels_no_header.csv new_york_hotels_no_header.csv new_york_hotels_no_header.csv new_york_hotels_no_header.csv new_york_hotels_no_header.csv new_york_hotels_no_header.csv new_york_hotels_no_header.csv new_york_hotels_no_header.csv new_york_hotels_no_header.csv new_york_hotels_no_header.csv new_york_hotels_no_header.csv new_york_hotels_no_header.csv new_york_hotels_no_header.csv new_york_hotels_no_header.csv new_york_hotels_no_header.csv new_york_hotels_no_header.csv new_york_hotels_no_header.csv new_york_hotels_no_header.csv new_york_hotels_no_header.csv new_york_hotels_no_header.csv new_york_hotels_no_header.csv new_york_hotels_no_header.csv new_york_hotels_no_header.csv new_york_hotels_no_header.csv new_york_hotels_no_header.csv new_york_hotels_no_header.csv new_york_hotels_no_header.csv new_york_hotels_no_header.csv new_york_hotels_no_header.csv new_york_hotels_no_header.csv new_york_hotels_no_header.csv new_york_hotels_no_header.csv new_york_hotels_no_header.csv new_york_hotels_no_header.csv new_york_hotels_no_header.csv new_york_hotels_no_header.csv new_york_hotels_no_header.csv new_york_hotels_no_header.csv new_york_hotels_no_header.csv new_york_hotels_no_header.csv new_york_hotels_no_header.csv new_york_hotels_no_header.csv new_york_hotels_no_header.csv new_york_hotels_no_header.csv new_york_hotels_no_header.csv new_york_hotels_no_header.csv new_york_hotels_no_header.csv new_york_hotels_no_header.csv new_york_hotels_no_header.csv new_york_hotels_no_header.csv new_york_hotels_no_header.csv new_york_hotels_no_header.csv new_york_hotels_no_header.csv new_york_hotels_no_header.csv new_york_hotels_no_header.csv new_york_hotels_no_header.csv new_york_hotels_no_header.csv new_york_hotels_no_header.csv new_york_hotels_no_header.csv new_york_hotels_no_header.csv new_york_hotels_no_header.csv new_york_hotels_no_header.csv new_york_hotels_no_header.csv new_york_hotels_no_header.csv new_york_hotels_no_header.csv new_york_hotels_no_header.csv new_york_hotels_no_header.csv new_york_hotels_no_header.csv new_york_hotels_no_header.csv new_york_hotels_no_header.csv new_york_hotels_no_header.csv new_york_hotels_no_header.csv new_york_hotels_no_header.csv new_york_hotels_no_header.csv new_york_hotels_no_header.csv new_york_hotels_no_header.csv new_york_hotels_no_header.csv new_york_hotels_no_header.csv new_york_hotels_no_header.csv new_york_hotels_no_header.csv new_york_hotels_no_header.csv new_york_hotels_no_header.csv new_york_hotels_no_header.csv new_york_hotels_no_header.csv new_york_hotels_no_header.csv new_york_hotels_no_header.csv new_york_hotels_no_header.csv new_york_hotels_no_header.csv new_york_hotels_no_header.csv new_york_hotels_no_header.csv new_york_hotels_no_header.csv new_york_hotels_no_header.csv new_york_hotels_no_header.csv new_york_hotels_no_header.csv new_york_hotels_no_header.csv new_york_hotels_no_header.csv new_york_hotels_no_header.csv new_york_hotels_no_header.csv new_york_hotels_no_header.csv new_york_hotels_no_header.csv new_york_hotels_no_header.csv new_york_hotels_no_header.csv new_york_hotels_no_header.csv new_york_hotels_no_header.csv new_york_hotels_no_header.csv new_york_hotels_no_header.csv new_york_hotels_no_header.csv new_york_hotels_no_header.csv new_york_hotels_no_header.csv new_york_hotels_no_header.csv new_york_hotels_no_header.csv new_york_hotels_no_header.csv new_york_hotels_no_header.csv new_york_hotels_no_header.csv new_york_hotels_no_header.csv new_york_hotels_no_header.csv new_york_hotels_no_header.csv new_york_hotels_no_header.csv new_york_hotels_no_header.csv new_york_hotels_no_header.csv new_york_hotels_no_header.csv new_york_hotels_no_header.csv new_york_hotels_no_header.csv new_york_hotels_no_header.csv new_york_hotels_no_header.csv new_york_hotels_no_header.csv new_york_hotels_no_header.csv new_york_hotels_no_header.csv new_york_hotels_no_header.csv new_york_hotels_no_header.csv new_york_hotels_no_header.csv new_york_hotels_no_header.csv new_york_hotels_no_header.csv new_york_hotels_no_header.csv new_york_hotels_no_header.csv new_york_hotels_no_header.csv new_york_hotels_no_header.csv new_york_hotels_no_header.csv new_york_hotels_no_header.csv new_york_hotels_no_header.csv new_york_hotels_no_header.csv new_york_hotels_no_header.csv new_york_hotels_no_header.csv new_york_hotels_no_header.csv new_york_hotels_no_header.csv new_york_hotels_no_header.csv new_york_hotels_no_header.csv new_york_hotels_no_header.csv new_york_hotels_no_header.csv new_york_hotels_no_header.csv new_york_hotels_no_header.csv new_york_hotels_no_header.csv new_york_hotels_no_header.csv new_york_hotels_no_header.csv new_york_hotels_no_header.csv new_york_hotels_no_header.csv new_york_hotels_no_header.csv new_york_hotels_no_header.csv new_york_hotels_no_header.csv new_york_hotels_no_header.csv new_york_hotels_no_header.csv new_york_hotels_no_header.csv new_york_hotels_no_header.csv new_york_hotels_no_header.csv new_york_hotels_no_header.csv new_york_hotels_no_header.csv new_york_hotels_no_header.csv new_york_hotels_no_header.csv new_york_hotels_no_header.csv new_york_hotels_no_header.csv new_york_hotels_no_header.csv new_york_hotels_no_header.csv new_york_hotels_no_header.csv new_york_hotels_no_header.csv new_york_hotels_no_header.csv new_york_hotels_no_header.csv new_york_hotels_no_header.csv new_york_hotels_no_header.csv new_york_hotels_no_header.csv new_york_hotels_no_header.csv new_york_hotels_no_header.csv new_york_hotels_no_header.csv new_york_hotels_no_header.csv new_york_hotels_no_header.csv new_york_hotels_no_header.csv new_york_hotels_no_header.csv new_york_hotels_no_header.csv new_york_hotels_no_header.csv new_york_hotels_no_header.csv new_york_hotels_no_header.csv new_york_hotels_no_header.csv new_york_hotels_no_header.csv new_york_hotels_no_header.csv new_york_hotels_no_header.csv new_york_hotels_no_header.csv new_york_hotels_no_header.csv new_york_hotels_no_header.csv new_york_hotels_no_header.csv new_york_hotels_no_header.csv new_york_hotels_no_header.csv new_york_hotels_no_header.csv new_york_hotels_no_header.csv new_york_hotels_no_header.csv new_york_hotels_no_header.csv new_york_hotels_no_header.csv new_york_hotels_no_header.csv new_york_hotels_no_header.csv new_york_hotels_no_header.csv new_york_hotels_no_header.csv new_york_hotels_no_header.csv new_york_hotels_no_header.csv new_york_hotels_no_header.csv new_york_hotels_no_header.csv new_york_hotels_no_header.csv new_york_hotels_no_header.csv new_york_hotels_no_header.csv new_york_hotels_no_header.csv new_york_hotels_no_header.csv new_york_hotels_no_header.csv new_york_hotels_no_header.csv new_york_hotels_no_header.csv new_york_hotels_no_header.csv new_york_hotels_no_header.csv new_york_hotels_no_header.csv new_york_hotels_no_header.csv new_york_hotels_no_header.csv new_york_hotels_no_header.csv new_york_hotels_no_header.csv new_york_hotels_no_header.csv new_york_hotels_no_header.csv new_york_hotels_no_header.csv new_york_hotels_no_header.csv new_york_hotels_no_header.csv new_york_hotels_no_header.csv new_york_hotels_no_header.csv new_york_hotels_no_header.csv new_york_hotels_no_header.csv new_york_hotels_no_header.csv new_york_hotels_no_header.csv new_york_hotels_no_header.csv new_york_hotels_no_header.csv new_york_hotels_no_header.csv new_york_hotels_no_header.csv new_york_hotels_no_header.csv new_york_hotels_no_header.csv new_york_hotels_no_header.csv new_york_hotels_no_header.csv new_york_hotels_no_header.csv new_york_hotels_no_header.csv new_york_hotels_no_header.csv new_york_hotels_no_header.csv new_york_hotels_no_header.csv new_york_hotels_no_header.csv new_york_hotels_no_header.csv new_york_hotels_no_header.csv new_york_hotels_no_header.csv new_york_hotels_no_header.csv new_york_hotels_no_header.csv new_york_hotels_no_header.csv new_york_hotels_no_header.csv new_york_hotels_no_header.csv new_york_hotels_no_header.csv new_york_hotels_no_header.csv new_york_hotels_no_header.csv new_york_hotels_no_header.csv new_york_hotels_no_header.csv new_york_hotels_no_header.csv new_york_hotels_no_header.csv new_york_hotels_no_header.csv new_york_hotels_no_header.csv new_york_hotels_no_header.csv new_york_hotels_no_header.csv new_york_hotels_no_header.csv new_york_hotels_no_header.csv new_york_hotels_no_header.csv new_york_hotels_no_header.csv new_york_hotels_no_header.csv new_york_hotels_no_header.csv new_york_hotels_no_header.csv new_york_hotels_no_header.csv new_york_hotels_no_header.csv new_york_hotels_no_header.csv new_york_hotels_no_header.csv new_york_hotels_no_header.csv new_york_hotels_no_header.csv new_york_hotels_no_header.csv new_york_hotels_no_header.csv new_york_hotels_no_header.csv new_york_hotels_no_header.csv new_york_hotels_no_header.csv new_york_hotels_no_header.csv new_york_hotels_no_header.csv new_york_hotels_no_header.csv new_york_hotels_no_header.csv new_york_hotels_no_header.csv new_york_hotels_no_header.csv new_york_hotels_no_header.csv new_york_hotels_no_header.csv new_york_hotels_no_header.csv > big_new_york_hotels.csv"
   ]
  },
  {
   "cell_type": "code",
   "execution_count": 28,
   "metadata": {},
   "outputs": [
    {
     "name": "stdout",
     "output_type": "stream",
     "text": [
      "CPU times: user 2.23 s, sys: 309 ms, total: 2.54 s\n",
      "Wall time: 2.34 s\n"
     ]
    }
   ],
   "source": [
    "%%time\n",
    "## Load Data\n",
    "df = pd.read_csv('big_new_york_hotels.csv', encoding='cp1252')"
   ]
  },
  {
   "cell_type": "code",
   "execution_count": 32,
   "metadata": {},
   "outputs": [
    {
     "name": "stdout",
     "output_type": "stream",
     "text": [
      "38.4 ms ± 4.04 ms per loop (mean ± std. dev. of 7 runs, 10 loops each)\n"
     ]
    }
   ],
   "source": [
    "%%time\n",
    "\n",
    "# Vectorized implementation of Haversine applied on Pandas series\n",
    "df['distance'] = haversine(40.671, -73.985, df['latitude'], df['longitude'])"
   ]
  },
  {
   "cell_type": "code",
   "execution_count": 29,
   "metadata": {},
   "outputs": [
    {
     "name": "stdout",
     "output_type": "stream",
     "text": [
      "CPU times: user 2 µs, sys: 0 ns, total: 2 µs\n",
      "Wall time: 5.01 µs\n"
     ]
    },
    {
     "data": {
      "text/plain": [
       "   ean_hotel_id                                     name  \\\n",
       "0        269955       Hilton Garden Inn Albany/SUNY Area   \n",
       "1        113431     Courtyard by Marriott Albany Thruway   \n",
       "2        108151                    Radisson Hotel Albany   \n",
       "3        254756  Hilton Garden Inn Albany Medical Center   \n",
       "4        198232  CrestHill Suites SUNY University Albany   \n",
       "\n",
       "                 address1    city state_province postal_code  latitude  \\\n",
       "0     1389 Washington Ave  Albany             NY       12206  42.68751   \n",
       "1  1455 Washington Avenue  Albany             NY       12206  42.68971   \n",
       "2             205 Wolf Rd  Albany             NY       12205  42.72410   \n",
       "3     62 New Scotland Ave  Albany             NY       12208  42.65157   \n",
       "4  1415 Washington Avenue  Albany             NY       12206  42.68873   \n",
       "\n",
       "   longitude  star_rating  high_rate  low_rate  \n",
       "0  -73.81643          3.0   154.0272  124.0216  \n",
       "1  -73.82021          3.0   179.0100  134.0000  \n",
       "2  -73.79822          3.0   134.1700   84.1600  \n",
       "3  -73.77638          3.0   308.2807  228.4597  \n",
       "4  -73.81854          3.0   169.3900   89.3900  "
      ]
     },
     "execution_count": 29,
     "metadata": {},
     "output_type": "execute_result"
    }
   ],
   "source": [
    "%time \n",
    "\n",
    "## Load Data\n",
    "rdf = rd.read_csv('big_new_york_hotels.csv', encoding='cp1252')\n",
    "rdf.head()"
   ]
  },
  {
   "cell_type": "code",
   "execution_count": 33,
   "metadata": {},
   "outputs": [
    {
     "name": "stdout",
     "output_type": "stream",
     "text": [
      "1.02 s ± 100 ms per loop (mean ± std. dev. of 7 runs, 1 loop each)\n"
     ]
    }
   ],
   "source": [
    "%%time\n",
    "\n",
    "# Vectorized implementation of Haversine applied on Pandas series\n",
    "result = haversine(40.671, -73.985, rdf['latitude'], rdf['longitude'])"
   ]
  },
  {
   "cell_type": "code",
   "execution_count": 35,
   "metadata": {},
   "outputs": [
    {
     "name": "stdout",
     "output_type": "stream",
     "text": [
      "CPU times: user 5min 27s, sys: 25.6 s, total: 5min 53s\n",
      "Wall time: 8min 21s\n"
     ]
    }
   ],
   "source": [
    "%%time\n",
    "# Haversine applied on rows via iteration\n",
    "haversine_series = []\n",
    "for index, row in rdf.iterrows():\n",
    "    haversine_series.append(haversine(40.671, -73.985,\\\n",
    "                                      row['latitude'], row['longitude']))\n",
    "result = haversine_series"
   ]
  },
  {
   "cell_type": "code",
   "execution_count": 37,
   "metadata": {},
   "outputs": [
    {
     "name": "stdout",
     "output_type": "stream",
     "text": [
      "CPU times: user 1min 14s, sys: 311 ms, total: 1min 15s\n",
      "Wall time: 1min 15s\n"
     ]
    }
   ],
   "source": [
    "%%time\n",
    "# Haversine applied on rows via iteration\n",
    "haversine_series = []\n",
    "for index, row in df.iterrows():\n",
    "    haversine_series.append(haversine(40.671, -73.985,\\\n",
    "                                      row['latitude'], row['longitude']))\n",
    "df['distance'] = haversine_series"
   ]
  }
 ],
 "metadata": {
  "kernelspec": {
   "display_name": "Python [conda env:Parallel_Final]",
   "language": "python",
   "name": "conda-env-Parallel_Final-py"
  },
  "language_info": {
   "codemirror_mode": {
    "name": "ipython",
    "version": 3
   },
   "file_extension": ".py",
   "mimetype": "text/x-python",
   "name": "python",
   "nbconvert_exporter": "python",
   "pygments_lexer": "ipython3",
   "version": "3.6.5"
  }
 },
 "nbformat": 4,
 "nbformat_minor": 2
}
